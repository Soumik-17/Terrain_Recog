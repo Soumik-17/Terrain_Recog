{
  "nbformat": 4,
  "nbformat_minor": 0,
  "metadata": {
    "colab": {
      "provenance": []
    },
    "kernelspec": {
      "name": "python3",
      "display_name": "Python 3"
    },
    "language_info": {
      "name": "python"
    }
  },
  "cells": [
    {
      "cell_type": "code",
      "source": [
        "import tensorflow as tf"
      ],
      "metadata": {
        "id": "1RnndVUuriDI"
      },
      "execution_count": 1,
      "outputs": []
    },
    {
      "cell_type": "code",
      "source": [
        "IMG_WIDTH = 256\n",
        "IMG_HEIGHT = 256\n",
        "IMG_CHANNELS = 1"
      ],
      "metadata": {
        "id": "4tm-3flKr02u"
      },
      "execution_count": 6,
      "outputs": []
    },
    {
      "cell_type": "code",
      "source": [
        "inputs = tf.keras.layers.Input((IMG_WIDTH, IMG_HEIGHT, IMG_CHANNELS))\n",
        "s = tf.keras.layers.Lambda(lambda x: x / 255)(inputs)"
      ],
      "metadata": {
        "id": "baAqaJnBr5oO"
      },
      "execution_count": 3,
      "outputs": []
    },
    {
      "cell_type": "code",
      "source": [
        "from keras.models import Model\n",
        "from keras.layers import Input, Conv2D, MaxPooling2D, UpSampling2D, Conv2DTranspose\n",
        "from keras.layers import concatenate, BatchNormalization, Dropout, Lambda\n",
        ""
      ],
      "metadata": {
        "id": "MdMr3PBfvQPV"
      },
      "execution_count": 7,
      "outputs": []
    },
    {
      "cell_type": "code",
      "source": [
        "\n",
        "from keras import backend as K"
      ],
      "metadata": {
        "id": "wLg1MSyYvSH9"
      },
      "execution_count": 8,
      "outputs": []
    },
    {
      "cell_type": "code",
      "source": [
        "c1 = Conv2D(16, (3,3), activation=\"relu\", kernel_initializer=\"he_normal\", padding=\"same\")(s)\n",
        "c1 = Dropout(0.2)(c1)\n",
        "c1 = Conv2D(16, (3,3), activation=\"relu\", kernel_initializer=\"he_normal\", padding=\"same\")(c1)\n",
        "p1 = MaxPooling2D((2,2))(c1)\n",
        "\n",
        "c2 = Conv2D(32, (3,3), activation=\"relu\", kernel_initializer=\"he_normal\", padding=\"same\")(p1)\n",
        "c2 = Dropout(0.2)(c2)\n",
        "c2 = Conv2D(32, (3,3), activation=\"relu\", kernel_initializer=\"he_normal\", padding=\"same\")(c2)\n",
        "p2 = MaxPooling2D((2,2))(c2)\n",
        "\n",
        "c3 = Conv2D(64, (3,3), activation=\"relu\", kernel_initializer=\"he_normal\", padding=\"same\")(p2)\n",
        "c3 = Dropout(0.2)(c3)\n",
        "c3 = Conv2D(64, (3,3), activation=\"relu\", kernel_initializer=\"he_normal\", padding=\"same\")(c3)\n",
        "p3 = MaxPooling2D((2,2))(c3)\n",
        "\n",
        "c4 = Conv2D(128, (3,3), activation=\"relu\", kernel_initializer=\"he_normal\", padding=\"same\")(p3)\n",
        "c4 = Dropout(0.2)(c4)\n",
        "c4 = Conv2D(128, (3,3), activation=\"relu\", kernel_initializer=\"he_normal\", padding=\"same\")(c4)\n",
        "p4 = MaxPooling2D((2,2))(c4)\n",
        "\n",
        "c5 = Conv2D(256, (3,3), activation=\"relu\", kernel_initializer=\"he_normal\", padding=\"same\")(p4)\n",
        "c5 = Dropout(0.2)(c5)\n",
        "c5 = Conv2D(256, (3,3), activation=\"relu\", kernel_initializer=\"he_normal\", padding=\"same\")(c5)\n",
        "\n",
        "u6 = Conv2DTranspose(128, (2,2), strides=(2,2), padding=\"same\")(c5)\n",
        "u6 = concatenate([u6, c4])\n",
        "c6 = Conv2D(128, (3,3), activation=\"relu\", kernel_initializer=\"he_normal\", padding=\"same\")(u6)\n",
        "c6 = Dropout(0.2)(c6)\n",
        "c6 = Conv2D(128, (3,3), activation=\"relu\", kernel_initializer=\"he_normal\", padding=\"same\")(c6)\n",
        "\n",
        "u7 = Conv2DTranspose(64, (2,2), strides=(2,2), padding=\"same\")(c6)\n",
        "u7 = concatenate([u7, c3])\n",
        "c7 = Conv2D(64, (3,3), activation=\"relu\", kernel_initializer=\"he_normal\", padding=\"same\")(u7)\n",
        "c7 = Dropout(0.2)(c7)\n",
        "c7 = Conv2D(64, (3,3), activation=\"relu\", kernel_initializer=\"he_normal\", padding=\"same\")(c7)\n",
        "\n",
        "u8 = Conv2DTranspose(32, (2,2), strides=(2,2), padding=\"same\")(c7)\n",
        "u8 = concatenate([u8, c2])\n",
        "c8 = Conv2D(32, (3,3), activation=\"relu\", kernel_initializer=\"he_normal\", padding=\"same\")(u8)\n",
        "c8 = Dropout(0.2)(c8)\n",
        "c8 = Conv2D(32, (3,3), activation=\"relu\", kernel_initializer=\"he_normal\", padding=\"same\")(c8)\n",
        "\n",
        "u9 = Conv2DTranspose(16, (2,2), strides=(2,2), padding=\"same\")(c8)\n",
        "u9 = concatenate([u9, c1], axis=3)\n",
        "c9 = Conv2D(16, (3,3), activation=\"relu\", kernel_initializer=\"he_normal\", padding=\"same\")(u9)\n",
        "c9 = Dropout(0.2)(c9)\n",
        "c9 = Conv2D(16, (3,3), activation=\"relu\", kernel_initializer=\"he_normal\", padding=\"same\")(c9)\n",
        "\n",
        "outputs = Conv2D(1, (1,1), activation = 'sigmoid')(c9)\n",
        "\n",
        "model = Model(inputs = [inputs], outputs = [outputs])\n",
        "model.compile(optimizer = 'adam', loss = 'binary_crossentropy', metrics = ['accuracy'])\n",
        "model.summary()"
      ],
      "metadata": {
        "colab": {
          "base_uri": "https://localhost:8080/"
        },
        "id": "PqkLT-YwvXL5",
        "outputId": "8e93e1fc-5b03-4a3d-92a0-a4395d6b2077"
      },
      "execution_count": 9,
      "outputs": [
        {
          "output_type": "stream",
          "name": "stdout",
          "text": [
            "Model: \"model\"\n",
            "__________________________________________________________________________________________________\n",
            " Layer (type)                Output Shape                 Param #   Connected to                  \n",
            "==================================================================================================\n",
            " input_1 (InputLayer)        [(None, 128, 128, 3)]        0         []                            \n",
            "                                                                                                  \n",
            " lambda (Lambda)             (None, 128, 128, 3)          0         ['input_1[0][0]']             \n",
            "                                                                                                  \n",
            " conv2d_20 (Conv2D)          (None, 128, 128, 16)         448       ['lambda[0][0]']              \n",
            "                                                                                                  \n",
            " dropout_10 (Dropout)        (None, 128, 128, 16)         0         ['conv2d_20[0][0]']           \n",
            "                                                                                                  \n",
            " conv2d_21 (Conv2D)          (None, 128, 128, 16)         2320      ['dropout_10[0][0]']          \n",
            "                                                                                                  \n",
            " max_pooling2d_8 (MaxPoolin  (None, 64, 64, 16)           0         ['conv2d_21[0][0]']           \n",
            " g2D)                                                                                             \n",
            "                                                                                                  \n",
            " conv2d_22 (Conv2D)          (None, 64, 64, 32)           4640      ['max_pooling2d_8[0][0]']     \n",
            "                                                                                                  \n",
            " dropout_11 (Dropout)        (None, 64, 64, 32)           0         ['conv2d_22[0][0]']           \n",
            "                                                                                                  \n",
            " conv2d_23 (Conv2D)          (None, 64, 64, 32)           9248      ['dropout_11[0][0]']          \n",
            "                                                                                                  \n",
            " max_pooling2d_9 (MaxPoolin  (None, 32, 32, 32)           0         ['conv2d_23[0][0]']           \n",
            " g2D)                                                                                             \n",
            "                                                                                                  \n",
            " conv2d_24 (Conv2D)          (None, 32, 32, 64)           18496     ['max_pooling2d_9[0][0]']     \n",
            "                                                                                                  \n",
            " dropout_12 (Dropout)        (None, 32, 32, 64)           0         ['conv2d_24[0][0]']           \n",
            "                                                                                                  \n",
            " conv2d_25 (Conv2D)          (None, 32, 32, 64)           36928     ['dropout_12[0][0]']          \n",
            "                                                                                                  \n",
            " max_pooling2d_10 (MaxPooli  (None, 16, 16, 64)           0         ['conv2d_25[0][0]']           \n",
            " ng2D)                                                                                            \n",
            "                                                                                                  \n",
            " conv2d_26 (Conv2D)          (None, 16, 16, 128)          73856     ['max_pooling2d_10[0][0]']    \n",
            "                                                                                                  \n",
            " dropout_13 (Dropout)        (None, 16, 16, 128)          0         ['conv2d_26[0][0]']           \n",
            "                                                                                                  \n",
            " conv2d_27 (Conv2D)          (None, 16, 16, 128)          147584    ['dropout_13[0][0]']          \n",
            "                                                                                                  \n",
            " max_pooling2d_11 (MaxPooli  (None, 8, 8, 128)            0         ['conv2d_27[0][0]']           \n",
            " ng2D)                                                                                            \n",
            "                                                                                                  \n",
            " conv2d_28 (Conv2D)          (None, 8, 8, 256)            295168    ['max_pooling2d_11[0][0]']    \n",
            "                                                                                                  \n",
            " dropout_14 (Dropout)        (None, 8, 8, 256)            0         ['conv2d_28[0][0]']           \n",
            "                                                                                                  \n",
            " conv2d_29 (Conv2D)          (None, 8, 8, 256)            590080    ['dropout_14[0][0]']          \n",
            "                                                                                                  \n",
            " conv2d_transpose_2 (Conv2D  (None, 16, 16, 128)          131200    ['conv2d_29[0][0]']           \n",
            " Transpose)                                                                                       \n",
            "                                                                                                  \n",
            " concatenate_2 (Concatenate  (None, 16, 16, 256)          0         ['conv2d_transpose_2[0][0]',  \n",
            " )                                                                   'conv2d_27[0][0]']           \n",
            "                                                                                                  \n",
            " conv2d_30 (Conv2D)          (None, 16, 16, 128)          295040    ['concatenate_2[0][0]']       \n",
            "                                                                                                  \n",
            " dropout_15 (Dropout)        (None, 16, 16, 128)          0         ['conv2d_30[0][0]']           \n",
            "                                                                                                  \n",
            " conv2d_31 (Conv2D)          (None, 16, 16, 128)          147584    ['dropout_15[0][0]']          \n",
            "                                                                                                  \n",
            " conv2d_transpose_3 (Conv2D  (None, 32, 32, 64)           32832     ['conv2d_31[0][0]']           \n",
            " Transpose)                                                                                       \n",
            "                                                                                                  \n",
            " concatenate_3 (Concatenate  (None, 32, 32, 128)          0         ['conv2d_transpose_3[0][0]',  \n",
            " )                                                                   'conv2d_25[0][0]']           \n",
            "                                                                                                  \n",
            " conv2d_32 (Conv2D)          (None, 32, 32, 64)           73792     ['concatenate_3[0][0]']       \n",
            "                                                                                                  \n",
            " dropout_16 (Dropout)        (None, 32, 32, 64)           0         ['conv2d_32[0][0]']           \n",
            "                                                                                                  \n",
            " conv2d_33 (Conv2D)          (None, 32, 32, 64)           36928     ['dropout_16[0][0]']          \n",
            "                                                                                                  \n",
            " conv2d_transpose_4 (Conv2D  (None, 64, 64, 32)           8224      ['conv2d_33[0][0]']           \n",
            " Transpose)                                                                                       \n",
            "                                                                                                  \n",
            " concatenate_4 (Concatenate  (None, 64, 64, 64)           0         ['conv2d_transpose_4[0][0]',  \n",
            " )                                                                   'conv2d_23[0][0]']           \n",
            "                                                                                                  \n",
            " conv2d_34 (Conv2D)          (None, 64, 64, 32)           18464     ['concatenate_4[0][0]']       \n",
            "                                                                                                  \n",
            " dropout_17 (Dropout)        (None, 64, 64, 32)           0         ['conv2d_34[0][0]']           \n",
            "                                                                                                  \n",
            " conv2d_35 (Conv2D)          (None, 64, 64, 32)           9248      ['dropout_17[0][0]']          \n",
            "                                                                                                  \n",
            " conv2d_transpose_5 (Conv2D  (None, 128, 128, 16)         2064      ['conv2d_35[0][0]']           \n",
            " Transpose)                                                                                       \n",
            "                                                                                                  \n",
            " concatenate_5 (Concatenate  (None, 128, 128, 32)         0         ['conv2d_transpose_5[0][0]',  \n",
            " )                                                                   'conv2d_21[0][0]']           \n",
            "                                                                                                  \n",
            " conv2d_36 (Conv2D)          (None, 128, 128, 16)         4624      ['concatenate_5[0][0]']       \n",
            "                                                                                                  \n",
            " dropout_18 (Dropout)        (None, 128, 128, 16)         0         ['conv2d_36[0][0]']           \n",
            "                                                                                                  \n",
            " conv2d_37 (Conv2D)          (None, 128, 128, 16)         2320      ['dropout_18[0][0]']          \n",
            "                                                                                                  \n",
            " conv2d_38 (Conv2D)          (None, 128, 128, 1)          17        ['conv2d_37[0][0]']           \n",
            "                                                                                                  \n",
            "==================================================================================================\n",
            "Total params: 1941105 (7.40 MB)\n",
            "Trainable params: 1941105 (7.40 MB)\n",
            "Non-trainable params: 0 (0.00 Byte)\n",
            "__________________________________________________________________________________________________\n"
          ]
        }
      ]
    }
  ]
}